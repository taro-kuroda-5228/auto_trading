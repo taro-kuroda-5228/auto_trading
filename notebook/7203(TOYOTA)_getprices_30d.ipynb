{
 "cells": [
  {
   "cell_type": "markdown",
   "id": "fee57436-97c4-47ee-aad4-7c4350ff3b35",
   "metadata": {},
   "source": [
    "# import"
   ]
  },
  {
   "cell_type": "code",
   "execution_count": 158,
   "id": "d8a1e77c-435c-4af6-a52e-ae2a998c476f",
   "metadata": {},
   "outputs": [
    {
     "name": "stdout",
     "output_type": "stream",
     "text": [
      "Requirement already satisfied: yahoo_finance_api2 in c:\\users\\user\\anaconda3\\lib\\site-packages (0.0.12)\n",
      "Requirement already satisfied: requests in c:\\users\\user\\anaconda3\\lib\\site-packages (from yahoo_finance_api2) (2.25.1)\n",
      "Requirement already satisfied: pyyaml in c:\\users\\user\\anaconda3\\lib\\site-packages (from yahoo_finance_api2) (5.4.1)\n",
      "Requirement already satisfied: idna<3,>=2.5 in c:\\users\\user\\anaconda3\\lib\\site-packages (from requests->yahoo_finance_api2) (2.10)\n",
      "Requirement already satisfied: chardet<5,>=3.0.2 in c:\\users\\user\\anaconda3\\lib\\site-packages (from requests->yahoo_finance_api2) (4.0.0)\n",
      "Requirement already satisfied: certifi>=2017.4.17 in c:\\users\\user\\anaconda3\\lib\\site-packages (from requests->yahoo_finance_api2) (2020.12.5)\n",
      "Requirement already satisfied: urllib3<1.27,>=1.21.1 in c:\\users\\user\\anaconda3\\lib\\site-packages (from requests->yahoo_finance_api2) (1.26.4)\n"
     ]
    }
   ],
   "source": [
    "!pip install yahoo_finance_api2"
   ]
  },
  {
   "cell_type": "code",
   "execution_count": 1,
   "id": "a0edb227-9dd3-4424-975d-1f51622abcc1",
   "metadata": {},
   "outputs": [],
   "source": [
    "import datetime\n",
    "import sys\n",
    "\n",
    "import pandas as pd\n",
    "from yahoo_finance_api2 import share\n",
    "from yahoo_finance_api2.exceptions import YahooFinanceError"
   ]
  },
  {
   "cell_type": "code",
   "execution_count": 2,
   "id": "154b7745-1319-4e5b-8b88-c8b2f49fbf92",
   "metadata": {},
   "outputs": [],
   "source": [
    "import pprint\n",
    "sys.path.append(\"C:\\\\Users\\\\User\\\\Work\\\\auto_trading\\\\auto_trading\")\n",
    "from raw_data_30 import RawData"
   ]
  },
  {
   "cell_type": "markdown",
   "id": "39ac392a-06f0-4400-851b-dd3a0fca9294",
   "metadata": {},
   "source": [
    "# 描出"
   ]
  },
  {
   "cell_type": "code",
   "execution_count": 3,
   "id": "e500d329-529d-4807-87e3-b0b05e3d86bf",
   "metadata": {},
   "outputs": [],
   "source": [
    "raw_data = RawData('7203','JP')"
   ]
  },
  {
   "cell_type": "code",
   "execution_count": 4,
   "id": "1d33f3ca-6332-4c84-b694-5a6860f2d36f",
   "metadata": {},
   "outputs": [
    {
     "data": {
      "text/html": [
       "<div>\n",
       "<style scoped>\n",
       "    .dataframe tbody tr th:only-of-type {\n",
       "        vertical-align: middle;\n",
       "    }\n",
       "\n",
       "    .dataframe tbody tr th {\n",
       "        vertical-align: top;\n",
       "    }\n",
       "\n",
       "    .dataframe thead th {\n",
       "        text-align: right;\n",
       "    }\n",
       "</style>\n",
       "<table border=\"1\" class=\"dataframe\">\n",
       "  <thead>\n",
       "    <tr style=\"text-align: right;\">\n",
       "      <th></th>\n",
       "      <th>open</th>\n",
       "      <th>high</th>\n",
       "      <th>low</th>\n",
       "      <th>close</th>\n",
       "      <th>volume</th>\n",
       "      <th>datetime</th>\n",
       "    </tr>\n",
       "  </thead>\n",
       "  <tbody>\n",
       "    <tr>\n",
       "      <th>115</th>\n",
       "      <td>2084.0</td>\n",
       "      <td>2092.0</td>\n",
       "      <td>2050.000000</td>\n",
       "      <td>2077.000000</td>\n",
       "      <td>189085000</td>\n",
       "      <td>2021-09-28</td>\n",
       "    </tr>\n",
       "    <tr>\n",
       "      <th>114</th>\n",
       "      <td>2031.0</td>\n",
       "      <td>2070.0</td>\n",
       "      <td>2030.000000</td>\n",
       "      <td>2066.000000</td>\n",
       "      <td>26810000</td>\n",
       "      <td>2021-09-27</td>\n",
       "    </tr>\n",
       "    <tr>\n",
       "      <th>113</th>\n",
       "      <td>1997.0</td>\n",
       "      <td>2020.0</td>\n",
       "      <td>1994.599976</td>\n",
       "      <td>2020.000000</td>\n",
       "      <td>34908000</td>\n",
       "      <td>2021-09-24</td>\n",
       "    </tr>\n",
       "    <tr>\n",
       "      <th>112</th>\n",
       "      <td>1978.0</td>\n",
       "      <td>1978.0</td>\n",
       "      <td>1961.199951</td>\n",
       "      <td>1964.000000</td>\n",
       "      <td>23934000</td>\n",
       "      <td>2021-09-22</td>\n",
       "    </tr>\n",
       "    <tr>\n",
       "      <th>111</th>\n",
       "      <td>1972.0</td>\n",
       "      <td>1992.0</td>\n",
       "      <td>1966.599976</td>\n",
       "      <td>1985.800049</td>\n",
       "      <td>29438500</td>\n",
       "      <td>2021-09-21</td>\n",
       "    </tr>\n",
       "  </tbody>\n",
       "</table>\n",
       "</div>"
      ],
      "text/plain": [
       "       open    high          low        close     volume   datetime\n",
       "115  2084.0  2092.0  2050.000000  2077.000000  189085000 2021-09-28\n",
       "114  2031.0  2070.0  2030.000000  2066.000000   26810000 2021-09-27\n",
       "113  1997.0  2020.0  1994.599976  2020.000000   34908000 2021-09-24\n",
       "112  1978.0  1978.0  1961.199951  1964.000000   23934000 2021-09-22\n",
       "111  1972.0  1992.0  1966.599976  1985.800049   29438500 2021-09-21"
      ]
     },
     "execution_count": 4,
     "metadata": {},
     "output_type": "execute_result"
    }
   ],
   "source": [
    "raw_data.time_series_data.tail()"
   ]
  },
  {
   "cell_type": "code",
   "execution_count": 5,
   "id": "e1f25cc5-4221-4fd8-be2a-a99fa17e2f61",
   "metadata": {},
   "outputs": [
    {
     "data": {
      "text/plain": [
       "(30, 6)"
      ]
     },
     "execution_count": 5,
     "metadata": {},
     "output_type": "execute_result"
    }
   ],
   "source": [
    "raw_data.time_series_data.shape"
   ]
  },
  {
   "cell_type": "code",
   "execution_count": null,
   "id": "fdbd95e5-ee79-4fa1-b13d-88055a4a5630",
   "metadata": {},
   "outputs": [],
   "source": []
  }
 ],
 "metadata": {
  "kernelspec": {
   "display_name": "Python 3",
   "language": "python",
   "name": "python3"
  },
  "language_info": {
   "codemirror_mode": {
    "name": "ipython",
    "version": 3
   },
   "file_extension": ".py",
   "mimetype": "text/x-python",
   "name": "python",
   "nbconvert_exporter": "python",
   "pygments_lexer": "ipython3",
   "version": "3.8.8"
  }
 },
 "nbformat": 4,
 "nbformat_minor": 5
}
