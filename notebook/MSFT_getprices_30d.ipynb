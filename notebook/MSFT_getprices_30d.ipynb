{
 "cells": [
  {
   "cell_type": "markdown",
   "id": "fee57436-97c4-47ee-aad4-7c4350ff3b35",
   "metadata": {},
   "source": [
    "# import"
   ]
  },
  {
   "cell_type": "code",
   "execution_count": 8,
   "id": "d8a1e77c-435c-4af6-a52e-ae2a998c476f",
   "metadata": {},
   "outputs": [
    {
     "name": "stdout",
     "output_type": "stream",
     "text": [
      "Requirement already satisfied: yahoo_finance_api2 in c:\\users\\user\\anaconda3\\lib\\site-packages (0.0.12)\n",
      "Requirement already satisfied: requests in c:\\users\\user\\anaconda3\\lib\\site-packages (from yahoo_finance_api2) (2.25.1)\n",
      "Requirement already satisfied: pyyaml in c:\\users\\user\\anaconda3\\lib\\site-packages (from yahoo_finance_api2) (5.4.1)\n",
      "Requirement already satisfied: idna<3,>=2.5 in c:\\users\\user\\anaconda3\\lib\\site-packages (from requests->yahoo_finance_api2) (2.10)\n",
      "Requirement already satisfied: urllib3<1.27,>=1.21.1 in c:\\users\\user\\anaconda3\\lib\\site-packages (from requests->yahoo_finance_api2) (1.26.4)\n",
      "Requirement already satisfied: chardet<5,>=3.0.2 in c:\\users\\user\\anaconda3\\lib\\site-packages (from requests->yahoo_finance_api2) (4.0.0)\n",
      "Requirement already satisfied: certifi>=2017.4.17 in c:\\users\\user\\anaconda3\\lib\\site-packages (from requests->yahoo_finance_api2) (2020.12.5)\n"
     ]
    }
   ],
   "source": [
    "!pip install yahoo_finance_api2"
   ]
  },
  {
   "cell_type": "code",
   "execution_count": 9,
   "id": "a0edb227-9dd3-4424-975d-1f51622abcc1",
   "metadata": {},
   "outputs": [],
   "source": [
    "import datetime\n",
    "import sys\n",
    "\n",
    "import pandas as pd\n",
    "from yahoo_finance_api2 import share\n",
    "from yahoo_finance_api2.exceptions import YahooFinanceError"
   ]
  },
  {
   "cell_type": "markdown",
   "id": "1c63174e-0fe9-4807-846e-eb4267df813b",
   "metadata": {},
   "source": [
    "# 前提"
   ]
  },
  {
   "cell_type": "code",
   "execution_count": 10,
   "id": "7a18a9b8-21d1-4daf-8f4d-c9b8e4961f76",
   "metadata": {},
   "outputs": [],
   "source": [
    "class RawData:\n",
    "    def __init__(self, name, nationality):\n",
    "        self.name = name\n",
    "        self.nationality = nationality\n",
    "    \n",
    "    @property\n",
    "    def time_series_data(self):\n",
    "        if self.nationality == 'JP':\n",
    "            if self.name[-2:] != '.T':\n",
    "                self.name += '.T'\n",
    "            else:\n",
    "                pass\n",
    "        else:\n",
    "            pass\n",
    "        my_share = share.Share(self.name)\n",
    "        symbol_data = None\n",
    "\n",
    "        try:\n",
    "            symbol_data = my_share.get_historical(\n",
    "                share.PERIOD_TYPE_WEEK, 30,\n",
    "                share.FREQUENCY_TYPE_DAY, 1)\n",
    "        except YahooFinanceError as e:\n",
    "            print(e.message)\n",
    "            sys.exit(1)\n",
    "\n",
    "        df = pd.DataFrame(symbol_data)\n",
    "        df[\"datetime\"] = pd.to_datetime(df.timestamp, unit=\"ms\")\n",
    "        df = df.iloc[::-1,1:][0:30]\n",
    "        return df"
   ]
  },
  {
   "cell_type": "code",
   "execution_count": 11,
   "id": "9ff980ab-a44b-4a15-9771-43c100358a6a",
   "metadata": {},
   "outputs": [],
   "source": [
    "# my_share = share.Share('MSFT')\n",
    "# symbol_data = None\n",
    " \n",
    "# try:\n",
    "#     symbol_data = my_share.get_historical(\n",
    "#         share.PERIOD_TYPE_WEEK, 30,\n",
    "#         share.FREQUENCY_TYPE_DAY, 1)\n",
    "# except YahooFinanceError as e:\n",
    "#     print(e.message)\n",
    "#     sys.exit(1)\n",
    " \n",
    "# df = pd.DataFrame(symbol_data)"
   ]
  },
  {
   "cell_type": "code",
   "execution_count": 12,
   "id": "97b59a9f-1909-4fa0-a2fd-4793ab7360f5",
   "metadata": {},
   "outputs": [],
   "source": [
    "# df[\"datetime\"] = pd.to_datetime(df.timestamp, unit=\"ms\")"
   ]
  },
  {
   "cell_type": "code",
   "execution_count": 13,
   "id": "7e122fe0-79db-4543-89ac-e7289881825c",
   "metadata": {},
   "outputs": [],
   "source": [
    "# df = df.iloc[::-1,1:][0:30]"
   ]
  },
  {
   "cell_type": "markdown",
   "id": "39ac392a-06f0-4400-851b-dd3a0fca9294",
   "metadata": {},
   "source": [
    "# 描出"
   ]
  },
  {
   "cell_type": "code",
   "execution_count": 14,
   "id": "390f4312-4f0b-45d3-98ef-4c43ba8d7ec1",
   "metadata": {},
   "outputs": [],
   "source": [
    "raw_data = RawData('MSFT','US')"
   ]
  },
  {
   "cell_type": "code",
   "execution_count": 15,
   "id": "5952aeaa-46b0-4d56-bda7-ddcb023696d3",
   "metadata": {},
   "outputs": [],
   "source": [
    "# print(raw_data)"
   ]
  },
  {
   "cell_type": "code",
   "execution_count": 16,
   "id": "85a1e7bd-a7ad-494f-b506-ff913fff69ed",
   "metadata": {},
   "outputs": [
    {
     "data": {
      "text/html": [
       "<div>\n",
       "<style scoped>\n",
       "    .dataframe tbody tr th:only-of-type {\n",
       "        vertical-align: middle;\n",
       "    }\n",
       "\n",
       "    .dataframe tbody tr th {\n",
       "        vertical-align: top;\n",
       "    }\n",
       "\n",
       "    .dataframe thead th {\n",
       "        text-align: right;\n",
       "    }\n",
       "</style>\n",
       "<table border=\"1\" class=\"dataframe\">\n",
       "  <thead>\n",
       "    <tr style=\"text-align: right;\">\n",
       "      <th></th>\n",
       "      <th>open</th>\n",
       "      <th>high</th>\n",
       "      <th>low</th>\n",
       "      <th>close</th>\n",
       "      <th>volume</th>\n",
       "      <th>datetime</th>\n",
       "    </tr>\n",
       "  </thead>\n",
       "  <tbody>\n",
       "    <tr>\n",
       "      <th>146</th>\n",
       "      <td>324.130005</td>\n",
       "      <td>332.000000</td>\n",
       "      <td>323.899994</td>\n",
       "      <td>331.619995</td>\n",
       "      <td>34744900</td>\n",
       "      <td>2021-10-29 13:30:00</td>\n",
       "    </tr>\n",
       "    <tr>\n",
       "      <th>145</th>\n",
       "      <td>324.329987</td>\n",
       "      <td>324.869995</td>\n",
       "      <td>321.359985</td>\n",
       "      <td>324.350006</td>\n",
       "      <td>26297900</td>\n",
       "      <td>2021-10-28 13:30:00</td>\n",
       "    </tr>\n",
       "    <tr>\n",
       "      <th>144</th>\n",
       "      <td>316.000000</td>\n",
       "      <td>326.100006</td>\n",
       "      <td>316.000000</td>\n",
       "      <td>323.170013</td>\n",
       "      <td>52588700</td>\n",
       "      <td>2021-10-27 13:30:00</td>\n",
       "    </tr>\n",
       "    <tr>\n",
       "      <th>143</th>\n",
       "      <td>311.000000</td>\n",
       "      <td>312.399994</td>\n",
       "      <td>308.600006</td>\n",
       "      <td>310.109985</td>\n",
       "      <td>28107300</td>\n",
       "      <td>2021-10-26 13:30:00</td>\n",
       "    </tr>\n",
       "    <tr>\n",
       "      <th>142</th>\n",
       "      <td>309.359985</td>\n",
       "      <td>309.399994</td>\n",
       "      <td>306.459991</td>\n",
       "      <td>308.130005</td>\n",
       "      <td>17554500</td>\n",
       "      <td>2021-10-25 13:30:00</td>\n",
       "    </tr>\n",
       "  </tbody>\n",
       "</table>\n",
       "</div>"
      ],
      "text/plain": [
       "           open        high         low       close    volume  \\\n",
       "146  324.130005  332.000000  323.899994  331.619995  34744900   \n",
       "145  324.329987  324.869995  321.359985  324.350006  26297900   \n",
       "144  316.000000  326.100006  316.000000  323.170013  52588700   \n",
       "143  311.000000  312.399994  308.600006  310.109985  28107300   \n",
       "142  309.359985  309.399994  306.459991  308.130005  17554500   \n",
       "\n",
       "               datetime  \n",
       "146 2021-10-29 13:30:00  \n",
       "145 2021-10-28 13:30:00  \n",
       "144 2021-10-27 13:30:00  \n",
       "143 2021-10-26 13:30:00  \n",
       "142 2021-10-25 13:30:00  "
      ]
     },
     "execution_count": 16,
     "metadata": {},
     "output_type": "execute_result"
    }
   ],
   "source": [
    "raw_data.time_series_data.head()"
   ]
  },
  {
   "cell_type": "code",
   "execution_count": 17,
   "id": "18761c24-5538-44f5-948b-de50f3bc1b9e",
   "metadata": {},
   "outputs": [
    {
     "data": {
      "text/plain": [
       "(30, 6)"
      ]
     },
     "execution_count": 17,
     "metadata": {},
     "output_type": "execute_result"
    }
   ],
   "source": [
    "raw_data.time_series_data.shape"
   ]
  },
  {
   "cell_type": "code",
   "execution_count": null,
   "id": "3a60a697-aa24-4a0e-8815-a2ec2affbb1f",
   "metadata": {},
   "outputs": [],
   "source": []
  }
 ],
 "metadata": {
  "kernelspec": {
   "display_name": "Python 3",
   "language": "python",
   "name": "python3"
  },
  "language_info": {
   "codemirror_mode": {
    "name": "ipython",
    "version": 3
   },
   "file_extension": ".py",
   "mimetype": "text/x-python",
   "name": "python",
   "nbconvert_exporter": "python",
   "pygments_lexer": "ipython3",
   "version": "3.8.8"
  }
 },
 "nbformat": 4,
 "nbformat_minor": 5
}
