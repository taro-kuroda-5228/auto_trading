{
 "cells": [
  {
   "cell_type": "markdown",
   "id": "fee57436-97c4-47ee-aad4-7c4350ff3b35",
   "metadata": {},
   "source": [
    "# import"
   ]
  },
  {
   "cell_type": "code",
   "execution_count": 63,
   "id": "d8a1e77c-435c-4af6-a52e-ae2a998c476f",
   "metadata": {},
   "outputs": [
    {
     "name": "stdout",
     "output_type": "stream",
     "text": [
      "Requirement already satisfied: yahoo_finance_api2 in c:\\users\\user\\anaconda3\\lib\\site-packages (0.0.12)\n",
      "Requirement already satisfied: pyyaml in c:\\users\\user\\anaconda3\\lib\\site-packages (from yahoo_finance_api2) (5.4.1)\n",
      "Requirement already satisfied: requests in c:\\users\\user\\anaconda3\\lib\\site-packages (from yahoo_finance_api2) (2.25.1)\n",
      "Requirement already satisfied: urllib3<1.27,>=1.21.1 in c:\\users\\user\\anaconda3\\lib\\site-packages (from requests->yahoo_finance_api2) (1.26.4)\n",
      "Requirement already satisfied: chardet<5,>=3.0.2 in c:\\users\\user\\anaconda3\\lib\\site-packages (from requests->yahoo_finance_api2) (4.0.0)\n",
      "Requirement already satisfied: certifi>=2017.4.17 in c:\\users\\user\\anaconda3\\lib\\site-packages (from requests->yahoo_finance_api2) (2020.12.5)\n",
      "Requirement already satisfied: idna<3,>=2.5 in c:\\users\\user\\anaconda3\\lib\\site-packages (from requests->yahoo_finance_api2) (2.10)\n"
     ]
    }
   ],
   "source": [
    "!pip install yahoo_finance_api2"
   ]
  },
  {
   "cell_type": "code",
   "execution_count": 6,
   "id": "a0edb227-9dd3-4424-975d-1f51622abcc1",
   "metadata": {},
   "outputs": [],
   "source": [
    "import datetime\n",
    "import sys\n",
    "\n",
    "import pandas as pd\n",
    "from yahoo_finance_api2 import share\n",
    "from yahoo_finance_api2.exceptions import YahooFinanceError"
   ]
  },
  {
   "cell_type": "code",
   "execution_count": 7,
   "id": "03d38701-317d-4c5e-b823-0adef3d5c744",
   "metadata": {},
   "outputs": [],
   "source": [
    "import pprint\n",
    "sys.path.append(\"C:\\\\Users\\\\User\\\\Work\\\\auto_trading\\\\auto_trading\")\n",
    "from raw_data_30 import RawData"
   ]
  },
  {
   "cell_type": "markdown",
   "id": "39ac392a-06f0-4400-851b-dd3a0fca9294",
   "metadata": {},
   "source": [
    "# 描出"
   ]
  },
  {
   "cell_type": "code",
   "execution_count": 8,
   "id": "390f4312-4f0b-45d3-98ef-4c43ba8d7ec1",
   "metadata": {},
   "outputs": [],
   "source": [
    "raw_data = RawData('MSFT','US').time_series_data"
   ]
  },
  {
   "cell_type": "code",
   "execution_count": 9,
   "id": "2ca1929c-b8a0-4f04-b8cc-1248a1f088c6",
   "metadata": {},
   "outputs": [
    {
     "data": {
      "text/html": [
       "<div>\n",
       "<style scoped>\n",
       "    .dataframe tbody tr th:only-of-type {\n",
       "        vertical-align: middle;\n",
       "    }\n",
       "\n",
       "    .dataframe tbody tr th {\n",
       "        vertical-align: top;\n",
       "    }\n",
       "\n",
       "    .dataframe thead th {\n",
       "        text-align: right;\n",
       "    }\n",
       "</style>\n",
       "<table border=\"1\" class=\"dataframe\">\n",
       "  <thead>\n",
       "    <tr style=\"text-align: right;\">\n",
       "      <th></th>\n",
       "      <th>open</th>\n",
       "      <th>high</th>\n",
       "      <th>low</th>\n",
       "      <th>close</th>\n",
       "      <th>volume</th>\n",
       "      <th>datetime</th>\n",
       "    </tr>\n",
       "  </thead>\n",
       "  <tbody>\n",
       "    <tr>\n",
       "      <th>146</th>\n",
       "      <td>330.309998</td>\n",
       "      <td>333.450012</td>\n",
       "      <td>330.000000</td>\n",
       "      <td>333.130005</td>\n",
       "      <td>26468300</td>\n",
       "      <td>2021-11-02 13:30:00</td>\n",
       "    </tr>\n",
       "    <tr>\n",
       "      <th>145</th>\n",
       "      <td>331.359985</td>\n",
       "      <td>331.489990</td>\n",
       "      <td>326.369995</td>\n",
       "      <td>329.369995</td>\n",
       "      <td>27073200</td>\n",
       "      <td>2021-11-01 13:30:00</td>\n",
       "    </tr>\n",
       "    <tr>\n",
       "      <th>144</th>\n",
       "      <td>324.130005</td>\n",
       "      <td>332.000000</td>\n",
       "      <td>323.899994</td>\n",
       "      <td>331.619995</td>\n",
       "      <td>34744900</td>\n",
       "      <td>2021-10-29 13:30:00</td>\n",
       "    </tr>\n",
       "    <tr>\n",
       "      <th>143</th>\n",
       "      <td>324.329987</td>\n",
       "      <td>324.869995</td>\n",
       "      <td>321.359985</td>\n",
       "      <td>324.350006</td>\n",
       "      <td>26297900</td>\n",
       "      <td>2021-10-28 13:30:00</td>\n",
       "    </tr>\n",
       "    <tr>\n",
       "      <th>142</th>\n",
       "      <td>316.000000</td>\n",
       "      <td>326.100006</td>\n",
       "      <td>316.000000</td>\n",
       "      <td>323.170013</td>\n",
       "      <td>52588700</td>\n",
       "      <td>2021-10-27 13:30:00</td>\n",
       "    </tr>\n",
       "  </tbody>\n",
       "</table>\n",
       "</div>"
      ],
      "text/plain": [
       "           open        high         low       close    volume  \\\n",
       "146  330.309998  333.450012  330.000000  333.130005  26468300   \n",
       "145  331.359985  331.489990  326.369995  329.369995  27073200   \n",
       "144  324.130005  332.000000  323.899994  331.619995  34744900   \n",
       "143  324.329987  324.869995  321.359985  324.350006  26297900   \n",
       "142  316.000000  326.100006  316.000000  323.170013  52588700   \n",
       "\n",
       "               datetime  \n",
       "146 2021-11-02 13:30:00  \n",
       "145 2021-11-01 13:30:00  \n",
       "144 2021-10-29 13:30:00  \n",
       "143 2021-10-28 13:30:00  \n",
       "142 2021-10-27 13:30:00  "
      ]
     },
     "execution_count": 9,
     "metadata": {},
     "output_type": "execute_result"
    }
   ],
   "source": [
    "raw_data.head()"
   ]
  },
  {
   "cell_type": "code",
   "execution_count": null,
   "id": "3276dd17-123d-41d3-9bdb-b604a9918cb3",
   "metadata": {},
   "outputs": [],
   "source": []
  }
 ],
 "metadata": {
  "kernelspec": {
   "display_name": "Python 3",
   "language": "python",
   "name": "python3"
  },
  "language_info": {
   "codemirror_mode": {
    "name": "ipython",
    "version": 3
   },
   "file_extension": ".py",
   "mimetype": "text/x-python",
   "name": "python",
   "nbconvert_exporter": "python",
   "pygments_lexer": "ipython3",
   "version": "3.8.8"
  }
 },
 "nbformat": 4,
 "nbformat_minor": 5
}
