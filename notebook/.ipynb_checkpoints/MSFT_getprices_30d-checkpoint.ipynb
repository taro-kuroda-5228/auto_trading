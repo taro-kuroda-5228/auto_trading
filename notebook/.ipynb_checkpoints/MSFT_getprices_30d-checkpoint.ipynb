{
 "cells": [
  {
   "cell_type": "markdown",
   "id": "fee57436-97c4-47ee-aad4-7c4350ff3b35",
   "metadata": {},
   "source": [
    "# import"
   ]
  },
  {
   "cell_type": "code",
   "execution_count": 1,
   "id": "d8a1e77c-435c-4af6-a52e-ae2a998c476f",
   "metadata": {},
   "outputs": [
    {
     "name": "stdout",
     "output_type": "stream",
     "text": [
      "Requirement already satisfied: yahoo_finance_api2 in c:\\users\\user\\anaconda3\\lib\\site-packages (0.0.12)\n",
      "Requirement already satisfied: pyyaml in c:\\users\\user\\anaconda3\\lib\\site-packages (from yahoo_finance_api2) (5.4.1)\n",
      "Requirement already satisfied: requests in c:\\users\\user\\anaconda3\\lib\\site-packages (from yahoo_finance_api2) (2.25.1)\n",
      "Requirement already satisfied: chardet<5,>=3.0.2 in c:\\users\\user\\anaconda3\\lib\\site-packages (from requests->yahoo_finance_api2) (4.0.0)\n",
      "Requirement already satisfied: idna<3,>=2.5 in c:\\users\\user\\anaconda3\\lib\\site-packages (from requests->yahoo_finance_api2) (2.10)\n",
      "Requirement already satisfied: certifi>=2017.4.17 in c:\\users\\user\\anaconda3\\lib\\site-packages (from requests->yahoo_finance_api2) (2020.12.5)\n",
      "Requirement already satisfied: urllib3<1.27,>=1.21.1 in c:\\users\\user\\anaconda3\\lib\\site-packages (from requests->yahoo_finance_api2) (1.26.4)\n"
     ]
    }
   ],
   "source": [
    "!pip install yahoo_finance_api2"
   ]
  },
  {
   "cell_type": "code",
   "execution_count": 2,
   "id": "a0edb227-9dd3-4424-975d-1f51622abcc1",
   "metadata": {},
   "outputs": [],
   "source": [
    "import datetime\n",
    "import sys\n",
    "\n",
    "import pandas as pd\n",
    "from yahoo_finance_api2 import share\n",
    "from yahoo_finance_api2.exceptions import YahooFinanceError"
   ]
  },
  {
   "cell_type": "markdown",
   "id": "1c63174e-0fe9-4807-846e-eb4267df813b",
   "metadata": {},
   "source": [
    "# 前提"
   ]
  },
  {
   "cell_type": "code",
   "execution_count": 3,
   "id": "9ff980ab-a44b-4a15-9771-43c100358a6a",
   "metadata": {},
   "outputs": [],
   "source": [
    "my_share = share.Share('MSFT')\n",
    "symbol_data = None\n",
    " \n",
    "try:\n",
    "    symbol_data = my_share.get_historical(\n",
    "        share.PERIOD_TYPE_WEEK, 30,\n",
    "        share.FREQUENCY_TYPE_DAY, 1)\n",
    "except YahooFinanceError as e:\n",
    "    print(e.message)\n",
    "    sys.exit(1)\n",
    " \n",
    "df = pd.DataFrame(symbol_data)"
   ]
  },
  {
   "cell_type": "code",
   "execution_count": 4,
   "id": "97b59a9f-1909-4fa0-a2fd-4793ab7360f5",
   "metadata": {},
   "outputs": [],
   "source": [
    "df[\"datetime\"] = pd.to_datetime(df.timestamp, unit=\"ms\")"
   ]
  },
  {
   "cell_type": "code",
   "execution_count": 5,
   "id": "7e122fe0-79db-4543-89ac-e7289881825c",
   "metadata": {},
   "outputs": [],
   "source": [
    "df = df.iloc[:,1:]"
   ]
  },
  {
   "cell_type": "code",
   "execution_count": 9,
   "id": "509e7429-c5ca-4bef-ac92-8d947df7014a",
   "metadata": {},
   "outputs": [],
   "source": [
    "df = df[0:30]"
   ]
  },
  {
   "cell_type": "markdown",
   "id": "39ac392a-06f0-4400-851b-dd3a0fca9294",
   "metadata": {},
   "source": [
    "# 描出"
   ]
  },
  {
   "cell_type": "code",
   "execution_count": 10,
   "id": "85a1e7bd-a7ad-494f-b506-ff913fff69ed",
   "metadata": {},
   "outputs": [
    {
     "data": {
      "text/html": [
       "<div>\n",
       "<style scoped>\n",
       "    .dataframe tbody tr th:only-of-type {\n",
       "        vertical-align: middle;\n",
       "    }\n",
       "\n",
       "    .dataframe tbody tr th {\n",
       "        vertical-align: top;\n",
       "    }\n",
       "\n",
       "    .dataframe thead th {\n",
       "        text-align: right;\n",
       "    }\n",
       "</style>\n",
       "<table border=\"1\" class=\"dataframe\">\n",
       "  <thead>\n",
       "    <tr style=\"text-align: right;\">\n",
       "      <th></th>\n",
       "      <th>open</th>\n",
       "      <th>high</th>\n",
       "      <th>low</th>\n",
       "      <th>close</th>\n",
       "      <th>volume</th>\n",
       "      <th>datetime</th>\n",
       "    </tr>\n",
       "  </thead>\n",
       "  <tbody>\n",
       "    <tr>\n",
       "      <th>0</th>\n",
       "      <td>242.759995</td>\n",
       "      <td>249.960007</td>\n",
       "      <td>242.699997</td>\n",
       "      <td>249.070007</td>\n",
       "      <td>36910600</td>\n",
       "      <td>2021-04-05 13:30:00</td>\n",
       "    </tr>\n",
       "    <tr>\n",
       "      <th>1</th>\n",
       "      <td>247.610001</td>\n",
       "      <td>249.399994</td>\n",
       "      <td>246.880005</td>\n",
       "      <td>247.860001</td>\n",
       "      <td>22931900</td>\n",
       "      <td>2021-04-06 13:30:00</td>\n",
       "    </tr>\n",
       "    <tr>\n",
       "      <th>2</th>\n",
       "      <td>247.809998</td>\n",
       "      <td>250.929993</td>\n",
       "      <td>247.190002</td>\n",
       "      <td>249.899994</td>\n",
       "      <td>22719800</td>\n",
       "      <td>2021-04-07 13:30:00</td>\n",
       "    </tr>\n",
       "    <tr>\n",
       "      <th>3</th>\n",
       "      <td>252.770004</td>\n",
       "      <td>254.139999</td>\n",
       "      <td>252.000000</td>\n",
       "      <td>253.250000</td>\n",
       "      <td>23625200</td>\n",
       "      <td>2021-04-08 13:30:00</td>\n",
       "    </tr>\n",
       "    <tr>\n",
       "      <th>4</th>\n",
       "      <td>252.869995</td>\n",
       "      <td>255.990005</td>\n",
       "      <td>252.440002</td>\n",
       "      <td>255.850006</td>\n",
       "      <td>24326800</td>\n",
       "      <td>2021-04-09 13:30:00</td>\n",
       "    </tr>\n",
       "  </tbody>\n",
       "</table>\n",
       "</div>"
      ],
      "text/plain": [
       "         open        high         low       close    volume  \\\n",
       "0  242.759995  249.960007  242.699997  249.070007  36910600   \n",
       "1  247.610001  249.399994  246.880005  247.860001  22931900   \n",
       "2  247.809998  250.929993  247.190002  249.899994  22719800   \n",
       "3  252.770004  254.139999  252.000000  253.250000  23625200   \n",
       "4  252.869995  255.990005  252.440002  255.850006  24326800   \n",
       "\n",
       "             datetime  \n",
       "0 2021-04-05 13:30:00  \n",
       "1 2021-04-06 13:30:00  \n",
       "2 2021-04-07 13:30:00  \n",
       "3 2021-04-08 13:30:00  \n",
       "4 2021-04-09 13:30:00  "
      ]
     },
     "execution_count": 10,
     "metadata": {},
     "output_type": "execute_result"
    }
   ],
   "source": [
    "df.head()"
   ]
  },
  {
   "cell_type": "code",
   "execution_count": 11,
   "id": "18761c24-5538-44f5-948b-de50f3bc1b9e",
   "metadata": {},
   "outputs": [
    {
     "data": {
      "text/plain": [
       "(30, 6)"
      ]
     },
     "execution_count": 11,
     "metadata": {},
     "output_type": "execute_result"
    }
   ],
   "source": [
    "df.shape"
   ]
  },
  {
   "cell_type": "code",
   "execution_count": null,
   "id": "3a60a697-aa24-4a0e-8815-a2ec2affbb1f",
   "metadata": {},
   "outputs": [],
   "source": []
  }
 ],
 "metadata": {
  "kernelspec": {
   "display_name": "Python 3",
   "language": "python",
   "name": "python3"
  },
  "language_info": {
   "codemirror_mode": {
    "name": "ipython",
    "version": 3
   },
   "file_extension": ".py",
   "mimetype": "text/x-python",
   "name": "python",
   "nbconvert_exporter": "python",
   "pygments_lexer": "ipython3",
   "version": "3.8.8"
  }
 },
 "nbformat": 4,
 "nbformat_minor": 5
}
