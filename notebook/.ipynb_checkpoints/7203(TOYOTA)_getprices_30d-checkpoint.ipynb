{
 "cells": [
  {
   "cell_type": "markdown",
   "id": "fee57436-97c4-47ee-aad4-7c4350ff3b35",
   "metadata": {},
   "source": [
    "# import"
   ]
  },
  {
   "cell_type": "code",
   "execution_count": 9,
   "id": "d8a1e77c-435c-4af6-a52e-ae2a998c476f",
   "metadata": {},
   "outputs": [
    {
     "name": "stdout",
     "output_type": "stream",
     "text": [
      "Requirement already satisfied: yahoo_finance_api2 in c:\\users\\user\\anaconda3\\lib\\site-packages (0.0.12)\n",
      "Requirement already satisfied: requests in c:\\users\\user\\anaconda3\\lib\\site-packages (from yahoo_finance_api2) (2.25.1)\n",
      "Requirement already satisfied: pyyaml in c:\\users\\user\\anaconda3\\lib\\site-packages (from yahoo_finance_api2) (5.4.1)\n",
      "Requirement already satisfied: certifi>=2017.4.17 in c:\\users\\user\\anaconda3\\lib\\site-packages (from requests->yahoo_finance_api2) (2020.12.5)\n",
      "Requirement already satisfied: urllib3<1.27,>=1.21.1 in c:\\users\\user\\anaconda3\\lib\\site-packages (from requests->yahoo_finance_api2) (1.26.4)\n",
      "Requirement already satisfied: idna<3,>=2.5 in c:\\users\\user\\anaconda3\\lib\\site-packages (from requests->yahoo_finance_api2) (2.10)\n",
      "Requirement already satisfied: chardet<5,>=3.0.2 in c:\\users\\user\\anaconda3\\lib\\site-packages (from requests->yahoo_finance_api2) (4.0.0)\n"
     ]
    }
   ],
   "source": [
    "!pip install yahoo_finance_api2"
   ]
  },
  {
   "cell_type": "code",
   "execution_count": 10,
   "id": "a0edb227-9dd3-4424-975d-1f51622abcc1",
   "metadata": {},
   "outputs": [],
   "source": [
    "import datetime\n",
    "import sys\n",
    "\n",
    "import pandas as pd\n",
    "from yahoo_finance_api2 import share\n",
    "from yahoo_finance_api2.exceptions import YahooFinanceError"
   ]
  },
  {
   "cell_type": "markdown",
   "id": "1c63174e-0fe9-4807-846e-eb4267df813b",
   "metadata": {},
   "source": [
    "# 前提"
   ]
  },
  {
   "cell_type": "code",
   "execution_count": 11,
   "id": "9ff980ab-a44b-4a15-9771-43c100358a6a",
   "metadata": {},
   "outputs": [],
   "source": [
    "my_share = share.Share('7203.T')\n",
    "symbol_data = None\n",
    " \n",
    "try:\n",
    "    symbol_data = my_share.get_historical(\n",
    "        share.PERIOD_TYPE_WEEK, 30,\n",
    "        share.FREQUENCY_TYPE_DAY, 1)\n",
    "except YahooFinanceError as e:\n",
    "    print(e.message)\n",
    "    sys.exit(1)\n",
    " \n",
    "df = pd.DataFrame(symbol_data)"
   ]
  },
  {
   "cell_type": "code",
   "execution_count": 12,
   "id": "97b59a9f-1909-4fa0-a2fd-4793ab7360f5",
   "metadata": {},
   "outputs": [],
   "source": [
    "df[\"datetime\"] = pd.to_datetime(df.timestamp, unit=\"ms\")"
   ]
  },
  {
   "cell_type": "code",
   "execution_count": 13,
   "id": "7e122fe0-79db-4543-89ac-e7289881825c",
   "metadata": {},
   "outputs": [],
   "source": [
    "df = df.iloc[:,1:]"
   ]
  },
  {
   "cell_type": "code",
   "execution_count": 14,
   "id": "b9ca01da-3865-4cb9-aa25-4e11d181d2d2",
   "metadata": {},
   "outputs": [],
   "source": [
    "df = df[0:30]"
   ]
  },
  {
   "cell_type": "markdown",
   "id": "39ac392a-06f0-4400-851b-dd3a0fca9294",
   "metadata": {},
   "source": [
    "# 描出"
   ]
  },
  {
   "cell_type": "code",
   "execution_count": 15,
   "id": "85a1e7bd-a7ad-494f-b506-ff913fff69ed",
   "metadata": {},
   "outputs": [
    {
     "data": {
      "text/html": [
       "<div>\n",
       "<style scoped>\n",
       "    .dataframe tbody tr th:only-of-type {\n",
       "        vertical-align: middle;\n",
       "    }\n",
       "\n",
       "    .dataframe tbody tr th {\n",
       "        vertical-align: top;\n",
       "    }\n",
       "\n",
       "    .dataframe thead th {\n",
       "        text-align: right;\n",
       "    }\n",
       "</style>\n",
       "<table border=\"1\" class=\"dataframe\">\n",
       "  <thead>\n",
       "    <tr style=\"text-align: right;\">\n",
       "      <th></th>\n",
       "      <th>open</th>\n",
       "      <th>high</th>\n",
       "      <th>low</th>\n",
       "      <th>close</th>\n",
       "      <th>volume</th>\n",
       "      <th>datetime</th>\n",
       "    </tr>\n",
       "  </thead>\n",
       "  <tbody>\n",
       "    <tr>\n",
       "      <th>0</th>\n",
       "      <td>1702.000000</td>\n",
       "      <td>1719.000000</td>\n",
       "      <td>1686.400024</td>\n",
       "      <td>1692.400024</td>\n",
       "      <td>21686500</td>\n",
       "      <td>2021-04-02</td>\n",
       "    </tr>\n",
       "    <tr>\n",
       "      <th>1</th>\n",
       "      <td>1699.000000</td>\n",
       "      <td>1700.800049</td>\n",
       "      <td>1684.199951</td>\n",
       "      <td>1692.199951</td>\n",
       "      <td>20385000</td>\n",
       "      <td>2021-04-05</td>\n",
       "    </tr>\n",
       "    <tr>\n",
       "      <th>2</th>\n",
       "      <td>1714.000000</td>\n",
       "      <td>1714.000000</td>\n",
       "      <td>1668.199951</td>\n",
       "      <td>1673.199951</td>\n",
       "      <td>27262000</td>\n",
       "      <td>2021-04-06</td>\n",
       "    </tr>\n",
       "    <tr>\n",
       "      <th>3</th>\n",
       "      <td>1694.800049</td>\n",
       "      <td>1709.599976</td>\n",
       "      <td>1681.000000</td>\n",
       "      <td>1697.400024</td>\n",
       "      <td>29696000</td>\n",
       "      <td>2021-04-07</td>\n",
       "    </tr>\n",
       "    <tr>\n",
       "      <th>4</th>\n",
       "      <td>1699.599976</td>\n",
       "      <td>1699.599976</td>\n",
       "      <td>1678.000000</td>\n",
       "      <td>1683.599976</td>\n",
       "      <td>22586000</td>\n",
       "      <td>2021-04-08</td>\n",
       "    </tr>\n",
       "  </tbody>\n",
       "</table>\n",
       "</div>"
      ],
      "text/plain": [
       "          open         high          low        close    volume   datetime\n",
       "0  1702.000000  1719.000000  1686.400024  1692.400024  21686500 2021-04-02\n",
       "1  1699.000000  1700.800049  1684.199951  1692.199951  20385000 2021-04-05\n",
       "2  1714.000000  1714.000000  1668.199951  1673.199951  27262000 2021-04-06\n",
       "3  1694.800049  1709.599976  1681.000000  1697.400024  29696000 2021-04-07\n",
       "4  1699.599976  1699.599976  1678.000000  1683.599976  22586000 2021-04-08"
      ]
     },
     "execution_count": 15,
     "metadata": {},
     "output_type": "execute_result"
    }
   ],
   "source": [
    "df.head()"
   ]
  },
  {
   "cell_type": "code",
   "execution_count": 16,
   "id": "e1f25cc5-4221-4fd8-be2a-a99fa17e2f61",
   "metadata": {},
   "outputs": [
    {
     "data": {
      "text/plain": [
       "(30, 6)"
      ]
     },
     "execution_count": 16,
     "metadata": {},
     "output_type": "execute_result"
    }
   ],
   "source": [
    "df.shape"
   ]
  },
  {
   "cell_type": "code",
   "execution_count": null,
   "id": "fdbd95e5-ee79-4fa1-b13d-88055a4a5630",
   "metadata": {},
   "outputs": [],
   "source": []
  }
 ],
 "metadata": {
  "kernelspec": {
   "display_name": "Python 3",
   "language": "python",
   "name": "python3"
  },
  "language_info": {
   "codemirror_mode": {
    "name": "ipython",
    "version": 3
   },
   "file_extension": ".py",
   "mimetype": "text/x-python",
   "name": "python",
   "nbconvert_exporter": "python",
   "pygments_lexer": "ipython3",
   "version": "3.8.8"
  }
 },
 "nbformat": 4,
 "nbformat_minor": 5
}
