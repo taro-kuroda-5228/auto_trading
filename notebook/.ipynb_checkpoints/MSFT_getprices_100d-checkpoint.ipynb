{
 "cells": [
  {
   "cell_type": "markdown",
   "id": "fee57436-97c4-47ee-aad4-7c4350ff3b35",
   "metadata": {},
   "source": [
    "# import"
   ]
  },
  {
   "cell_type": "code",
   "execution_count": 27,
   "id": "d8a1e77c-435c-4af6-a52e-ae2a998c476f",
   "metadata": {},
   "outputs": [
    {
     "name": "stdout",
     "output_type": "stream",
     "text": [
      "Requirement already satisfied: yahoo_finance_api2 in c:\\users\\user\\anaconda3\\lib\\site-packages (0.0.12)\n",
      "Requirement already satisfied: requests in c:\\users\\user\\anaconda3\\lib\\site-packages (from yahoo_finance_api2) (2.25.1)\n",
      "Requirement already satisfied: pyyaml in c:\\users\\user\\anaconda3\\lib\\site-packages (from yahoo_finance_api2) (5.4.1)\n",
      "Requirement already satisfied: certifi>=2017.4.17 in c:\\users\\user\\anaconda3\\lib\\site-packages (from requests->yahoo_finance_api2) (2020.12.5)\n",
      "Requirement already satisfied: chardet<5,>=3.0.2 in c:\\users\\user\\anaconda3\\lib\\site-packages (from requests->yahoo_finance_api2) (4.0.0)\n",
      "Requirement already satisfied: urllib3<1.27,>=1.21.1 in c:\\users\\user\\anaconda3\\lib\\site-packages (from requests->yahoo_finance_api2) (1.26.4)\n",
      "Requirement already satisfied: idna<3,>=2.5 in c:\\users\\user\\anaconda3\\lib\\site-packages (from requests->yahoo_finance_api2) (2.10)\n"
     ]
    }
   ],
   "source": [
    "!pip install yahoo_finance_api2"
   ]
  },
  {
   "cell_type": "code",
   "execution_count": 28,
   "id": "888aa45c-914a-4c3b-842a-19012492386b",
   "metadata": {},
   "outputs": [],
   "source": [
    "# !pip install yahoo_fin"
   ]
  },
  {
   "cell_type": "code",
   "execution_count": 29,
   "id": "a0edb227-9dd3-4424-975d-1f51622abcc1",
   "metadata": {},
   "outputs": [],
   "source": [
    "import datetime\n",
    "import sys\n",
    "\n",
    "import pandas as pd\n",
    "from yahoo_finance_api2 import share\n",
    "from yahoo_finance_api2.exceptions import YahooFinanceError\n",
    "# from yahoo_fin.stock_info import get_data"
   ]
  },
  {
   "cell_type": "markdown",
   "id": "1c63174e-0fe9-4807-846e-eb4267df813b",
   "metadata": {},
   "source": [
    "# 前提"
   ]
  },
  {
   "cell_type": "code",
   "execution_count": 49,
   "id": "9ff980ab-a44b-4a15-9771-43c100358a6a",
   "metadata": {},
   "outputs": [],
   "source": [
    "my_share = share.Share('MSFT')\n",
    "symbol_data = None\n",
    " \n",
    "try:\n",
    "    symbol_data = my_share.get_historical(\n",
    "        share.PERIOD_TYPE_WEEK, 30,\n",
    "        share.FREQUENCY_TYPE_DAY, 1)\n",
    "except YahooFinanceError as e:\n",
    "    print(e.message)\n",
    "    sys.exit(1)\n",
    " \n",
    "df = pd.DataFrame(symbol_data)"
   ]
  },
  {
   "cell_type": "code",
   "execution_count": 50,
   "id": "97b59a9f-1909-4fa0-a2fd-4793ab7360f5",
   "metadata": {},
   "outputs": [],
   "source": [
    "df[\"datetime\"] = pd.to_datetime(df.timestamp, unit=\"ms\")"
   ]
  },
  {
   "cell_type": "code",
   "execution_count": 51,
   "id": "7e122fe0-79db-4543-89ac-e7289881825c",
   "metadata": {},
   "outputs": [],
   "source": [
    "df = df.iloc[::-1,1:]"
   ]
  },
  {
   "cell_type": "markdown",
   "id": "39ac392a-06f0-4400-851b-dd3a0fca9294",
   "metadata": {},
   "source": [
    "# 描出"
   ]
  },
  {
   "cell_type": "code",
   "execution_count": 54,
   "id": "328311b7-4d0c-4607-b0f2-19ac5d02ed60",
   "metadata": {},
   "outputs": [],
   "source": [
    "df = df[0:100]"
   ]
  },
  {
   "cell_type": "code",
   "execution_count": 55,
   "id": "85a1e7bd-a7ad-494f-b506-ff913fff69ed",
   "metadata": {},
   "outputs": [
    {
     "data": {
      "text/html": [
       "<div>\n",
       "<style scoped>\n",
       "    .dataframe tbody tr th:only-of-type {\n",
       "        vertical-align: middle;\n",
       "    }\n",
       "\n",
       "    .dataframe tbody tr th {\n",
       "        vertical-align: top;\n",
       "    }\n",
       "\n",
       "    .dataframe thead th {\n",
       "        text-align: right;\n",
       "    }\n",
       "</style>\n",
       "<table border=\"1\" class=\"dataframe\">\n",
       "  <thead>\n",
       "    <tr style=\"text-align: right;\">\n",
       "      <th></th>\n",
       "      <th>open</th>\n",
       "      <th>high</th>\n",
       "      <th>low</th>\n",
       "      <th>close</th>\n",
       "      <th>volume</th>\n",
       "      <th>datetime</th>\n",
       "    </tr>\n",
       "  </thead>\n",
       "  <tbody>\n",
       "    <tr>\n",
       "      <th>145</th>\n",
       "      <td>324.329987</td>\n",
       "      <td>324.869995</td>\n",
       "      <td>321.359985</td>\n",
       "      <td>324.350006</td>\n",
       "      <td>26275100</td>\n",
       "      <td>2021-10-28 13:30:00</td>\n",
       "    </tr>\n",
       "    <tr>\n",
       "      <th>144</th>\n",
       "      <td>316.000000</td>\n",
       "      <td>326.100006</td>\n",
       "      <td>316.000000</td>\n",
       "      <td>323.170013</td>\n",
       "      <td>52588700</td>\n",
       "      <td>2021-10-27 13:30:00</td>\n",
       "    </tr>\n",
       "    <tr>\n",
       "      <th>143</th>\n",
       "      <td>311.000000</td>\n",
       "      <td>312.399994</td>\n",
       "      <td>308.600006</td>\n",
       "      <td>310.109985</td>\n",
       "      <td>28107300</td>\n",
       "      <td>2021-10-26 13:30:00</td>\n",
       "    </tr>\n",
       "    <tr>\n",
       "      <th>142</th>\n",
       "      <td>309.359985</td>\n",
       "      <td>309.399994</td>\n",
       "      <td>306.459991</td>\n",
       "      <td>308.130005</td>\n",
       "      <td>17554500</td>\n",
       "      <td>2021-10-25 13:30:00</td>\n",
       "    </tr>\n",
       "    <tr>\n",
       "      <th>141</th>\n",
       "      <td>310.399994</td>\n",
       "      <td>311.089996</td>\n",
       "      <td>307.799988</td>\n",
       "      <td>309.160004</td>\n",
       "      <td>17440800</td>\n",
       "      <td>2021-10-22 13:30:00</td>\n",
       "    </tr>\n",
       "  </tbody>\n",
       "</table>\n",
       "</div>"
      ],
      "text/plain": [
       "           open        high         low       close    volume  \\\n",
       "145  324.329987  324.869995  321.359985  324.350006  26275100   \n",
       "144  316.000000  326.100006  316.000000  323.170013  52588700   \n",
       "143  311.000000  312.399994  308.600006  310.109985  28107300   \n",
       "142  309.359985  309.399994  306.459991  308.130005  17554500   \n",
       "141  310.399994  311.089996  307.799988  309.160004  17440800   \n",
       "\n",
       "               datetime  \n",
       "145 2021-10-28 13:30:00  \n",
       "144 2021-10-27 13:30:00  \n",
       "143 2021-10-26 13:30:00  \n",
       "142 2021-10-25 13:30:00  \n",
       "141 2021-10-22 13:30:00  "
      ]
     },
     "execution_count": 55,
     "metadata": {},
     "output_type": "execute_result"
    }
   ],
   "source": [
    "df.head()"
   ]
  },
  {
   "cell_type": "code",
   "execution_count": 56,
   "id": "18761c24-5538-44f5-948b-de50f3bc1b9e",
   "metadata": {},
   "outputs": [
    {
     "data": {
      "text/plain": [
       "(100, 6)"
      ]
     },
     "execution_count": 56,
     "metadata": {},
     "output_type": "execute_result"
    }
   ],
   "source": [
    "df.shape"
   ]
  },
  {
   "cell_type": "code",
   "execution_count": null,
   "id": "c0c1bdc8-5f51-4687-a683-7bfcdd382967",
   "metadata": {},
   "outputs": [],
   "source": []
  }
 ],
 "metadata": {
  "kernelspec": {
   "display_name": "Python 3",
   "language": "python",
   "name": "python3"
  },
  "language_info": {
   "codemirror_mode": {
    "name": "ipython",
    "version": 3
   },
   "file_extension": ".py",
   "mimetype": "text/x-python",
   "name": "python",
   "nbconvert_exporter": "python",
   "pygments_lexer": "ipython3",
   "version": "3.8.8"
  }
 },
 "nbformat": 4,
 "nbformat_minor": 5
}
