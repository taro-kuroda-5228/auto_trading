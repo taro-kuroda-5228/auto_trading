{
 "cells": [
  {
   "cell_type": "markdown",
   "id": "fee57436-97c4-47ee-aad4-7c4350ff3b35",
   "metadata": {},
   "source": [
    "# import"
   ]
  },
  {
   "cell_type": "code",
   "execution_count": 1,
   "id": "d8a1e77c-435c-4af6-a52e-ae2a998c476f",
   "metadata": {},
   "outputs": [
    {
     "name": "stdout",
     "output_type": "stream",
     "text": [
      "Requirement already satisfied: yahoo_finance_api2 in c:\\users\\user\\anaconda3\\lib\\site-packages (0.0.12)\n",
      "Requirement already satisfied: requests in c:\\users\\user\\anaconda3\\lib\\site-packages (from yahoo_finance_api2) (2.25.1)\n",
      "Requirement already satisfied: pyyaml in c:\\users\\user\\anaconda3\\lib\\site-packages (from yahoo_finance_api2) (5.4.1)\n",
      "Requirement already satisfied: certifi>=2017.4.17 in c:\\users\\user\\anaconda3\\lib\\site-packages (from requests->yahoo_finance_api2) (2020.12.5)\n",
      "Requirement already satisfied: chardet<5,>=3.0.2 in c:\\users\\user\\anaconda3\\lib\\site-packages (from requests->yahoo_finance_api2) (4.0.0)\n",
      "Requirement already satisfied: urllib3<1.27,>=1.21.1 in c:\\users\\user\\anaconda3\\lib\\site-packages (from requests->yahoo_finance_api2) (1.26.4)\n",
      "Requirement already satisfied: idna<3,>=2.5 in c:\\users\\user\\anaconda3\\lib\\site-packages (from requests->yahoo_finance_api2) (2.10)\n"
     ]
    }
   ],
   "source": [
    "!pip install yahoo_finance_api2"
   ]
  },
  {
   "cell_type": "code",
   "execution_count": 1,
   "id": "a0edb227-9dd3-4424-975d-1f51622abcc1",
   "metadata": {},
   "outputs": [],
   "source": [
    "import datetime\n",
    "import sys\n",
    "\n",
    "import pandas as pd\n",
    "from yahoo_finance_api2 import share\n",
    "from yahoo_finance_api2.exceptions import YahooFinanceError"
   ]
  },
  {
   "cell_type": "code",
   "execution_count": 2,
   "id": "b6d4ea5d-a83c-4a53-a754-1f4043d258af",
   "metadata": {},
   "outputs": [],
   "source": [
    "import pprint\n",
    "sys.path.append(\"C:\\\\Users\\\\User\\\\Work\\\\auto_trading\\\\auto_trading\")\n",
    "from raw_data_100 import RawData"
   ]
  },
  {
   "cell_type": "markdown",
   "id": "39ac392a-06f0-4400-851b-dd3a0fca9294",
   "metadata": {},
   "source": [
    "# 描出"
   ]
  },
  {
   "cell_type": "code",
   "execution_count": 3,
   "id": "e500d329-529d-4807-87e3-b0b05e3d86bf",
   "metadata": {},
   "outputs": [],
   "source": [
    "raw_data = RawData('7203','JP')"
   ]
  },
  {
   "cell_type": "code",
   "execution_count": 4,
   "id": "1d33f3ca-6332-4c84-b694-5a6860f2d36f",
   "metadata": {},
   "outputs": [
    {
     "data": {
      "text/html": [
       "<div>\n",
       "<style scoped>\n",
       "    .dataframe tbody tr th:only-of-type {\n",
       "        vertical-align: middle;\n",
       "    }\n",
       "\n",
       "    .dataframe tbody tr th {\n",
       "        vertical-align: top;\n",
       "    }\n",
       "\n",
       "    .dataframe thead th {\n",
       "        text-align: right;\n",
       "    }\n",
       "</style>\n",
       "<table border=\"1\" class=\"dataframe\">\n",
       "  <thead>\n",
       "    <tr style=\"text-align: right;\">\n",
       "      <th></th>\n",
       "      <th>open</th>\n",
       "      <th>high</th>\n",
       "      <th>low</th>\n",
       "      <th>close</th>\n",
       "      <th>volume</th>\n",
       "      <th>datetime</th>\n",
       "    </tr>\n",
       "  </thead>\n",
       "  <tbody>\n",
       "    <tr>\n",
       "      <th>45</th>\n",
       "      <td>1983.199951</td>\n",
       "      <td>2018.000000</td>\n",
       "      <td>1976.800049</td>\n",
       "      <td>2015.000000</td>\n",
       "      <td>36932500</td>\n",
       "      <td>2021-06-15</td>\n",
       "    </tr>\n",
       "    <tr>\n",
       "      <th>44</th>\n",
       "      <td>1986.000000</td>\n",
       "      <td>1991.599976</td>\n",
       "      <td>1976.599976</td>\n",
       "      <td>1980.000000</td>\n",
       "      <td>15667000</td>\n",
       "      <td>2021-06-14</td>\n",
       "    </tr>\n",
       "    <tr>\n",
       "      <th>43</th>\n",
       "      <td>1969.199951</td>\n",
       "      <td>1980.599976</td>\n",
       "      <td>1956.000000</td>\n",
       "      <td>1972.199951</td>\n",
       "      <td>32905500</td>\n",
       "      <td>2021-06-11</td>\n",
       "    </tr>\n",
       "    <tr>\n",
       "      <th>42</th>\n",
       "      <td>1966.000000</td>\n",
       "      <td>1983.599976</td>\n",
       "      <td>1964.000000</td>\n",
       "      <td>1973.199951</td>\n",
       "      <td>20786500</td>\n",
       "      <td>2021-06-10</td>\n",
       "    </tr>\n",
       "    <tr>\n",
       "      <th>41</th>\n",
       "      <td>1967.199951</td>\n",
       "      <td>1990.000000</td>\n",
       "      <td>1962.800049</td>\n",
       "      <td>1981.199951</td>\n",
       "      <td>22140500</td>\n",
       "      <td>2021-06-09</td>\n",
       "    </tr>\n",
       "  </tbody>\n",
       "</table>\n",
       "</div>"
      ],
      "text/plain": [
       "           open         high          low        close    volume   datetime\n",
       "45  1983.199951  2018.000000  1976.800049  2015.000000  36932500 2021-06-15\n",
       "44  1986.000000  1991.599976  1976.599976  1980.000000  15667000 2021-06-14\n",
       "43  1969.199951  1980.599976  1956.000000  1972.199951  32905500 2021-06-11\n",
       "42  1966.000000  1983.599976  1964.000000  1973.199951  20786500 2021-06-10\n",
       "41  1967.199951  1990.000000  1962.800049  1981.199951  22140500 2021-06-09"
      ]
     },
     "execution_count": 4,
     "metadata": {},
     "output_type": "execute_result"
    }
   ],
   "source": [
    "raw_data.time_series_data.tail()"
   ]
  },
  {
   "cell_type": "code",
   "execution_count": 5,
   "id": "e1f25cc5-4221-4fd8-be2a-a99fa17e2f61",
   "metadata": {},
   "outputs": [
    {
     "data": {
      "text/plain": [
       "(100, 6)"
      ]
     },
     "execution_count": 5,
     "metadata": {},
     "output_type": "execute_result"
    }
   ],
   "source": [
    "raw_data.time_series_data.shape"
   ]
  },
  {
   "cell_type": "code",
   "execution_count": null,
   "id": "fdbd95e5-ee79-4fa1-b13d-88055a4a5630",
   "metadata": {},
   "outputs": [],
   "source": []
  }
 ],
 "metadata": {
  "kernelspec": {
   "display_name": "Python 3",
   "language": "python",
   "name": "python3"
  },
  "language_info": {
   "codemirror_mode": {
    "name": "ipython",
    "version": 3
   },
   "file_extension": ".py",
   "mimetype": "text/x-python",
   "name": "python",
   "nbconvert_exporter": "python",
   "pygments_lexer": "ipython3",
   "version": "3.8.8"
  }
 },
 "nbformat": 4,
 "nbformat_minor": 5
}
